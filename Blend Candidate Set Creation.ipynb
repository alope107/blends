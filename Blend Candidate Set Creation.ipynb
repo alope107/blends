{
 "cells": [
  {
   "cell_type": "code",
   "execution_count": 11,
   "metadata": {
    "collapsed": true
   },
   "outputs": [],
   "source": [
    "%matplotlib inline\n",
    "\n",
    "import matplotlib\n",
    "import numpy as np\n",
    "import matplotlib.pyplot as plt"
   ]
  },
  {
   "cell_type": "code",
   "execution_count": 21,
   "metadata": {
    "collapsed": false
   },
   "outputs": [
    {
     "name": "stdout",
     "output_type": "stream",
     "text": [
      "235886\n",
      "210687\n"
     ]
    }
   ],
   "source": [
    "with open('words', 'r') as words:\n",
    "    forewords = list(set([word.strip() for word in words.readlines()]))\n",
    "    print len(forewords)\n",
    "    forewords = [word for word in forewords if word.isalpha() and word.islower()]\n",
    "    print len(forewords)\n",
    "    forewords.sort()\n",
    "    backwords = [word[::-1] for word in forewords]\n",
    "    backwords.sort()"
   ]
  },
  {
   "cell_type": "code",
   "execution_count": 123,
   "metadata": {
    "collapsed": false
   },
   "outputs": [
    {
     "name": "stdout",
     "output_type": "stream",
     "text": [
      "advergame\n",
      "exergame\n"
     ]
    }
   ],
   "source": [
    "import csv\n",
    "blends = []\n",
    "with open('wordspy.blends', 'rb') as csvfile:\n",
    "    reader = csv.reader(csvfile, delimiter=\"\\t\")\n",
    "    for row in reader:\n",
    "        blends.append(row[0])\n",
    "        if row[1] == \"wacker\" or row[2] == \"game\":\n",
    "            print row[0]\n",
    "import random\n",
    "random.shuffle(blends)"
   ]
  },
  {
   "cell_type": "code",
   "execution_count": 19,
   "metadata": {
    "collapsed": false
   },
   "outputs": [],
   "source": [
    "import itertools\n",
    "from bisect import *\n",
    "\n",
    "def create_product(word, forewords=forewords, backwords=backwords, min=2):\n",
    "    starters, enders = create_lists(word, forewords=forewords, backwords=backwords, min=2)\n",
    "    \n",
    "    return itertools.product(starters, enders)\n",
    "\n",
    "def create_lists(word, forewords=forewords, backwords=backwords, min=2):\n",
    "    starters = find_matches(word, forewords, min=min)\n",
    "    enders = find_matches(word[::-1], backwords, min=min)\n",
    "    \n",
    "    enders = [word[::-1] for word in enders]\n",
    "    return (starters, enders)\n",
    "\n",
    "def find_matches(word, word_list, min=2):\n",
    "    substr = word[:min]\n",
    "    lower = bisect_right(word_list, substr) - 1\n",
    "    \n",
    "    low_word = word_list[lower]\n",
    "    #print \"low_word\", low_word\n",
    "    \n",
    "    #couldn't find any exact matches\n",
    "    if len(low_word) < min or low_word[:min] != word[:min]:\n",
    "        lower += 1\n",
    "        low_word = word_list[lower]\n",
    "        #print \"new low word\", low_word\n",
    "        if len(low_word) < min or low_word[:min] != word[:min]:\n",
    "            return []\n",
    "    \n",
    "    substr_end = substr[:-1] + chr(ord(substr[-1]) + 1)\n",
    "    upper = bisect_left(word_list, substr_end) - 1\n",
    "    upper_word = word_list[upper]\n",
    "    #print \"upper word\", upper_word\n",
    "    if len(upper_word) < min or upper_word[:min] != word[:min]:\n",
    "        upper -= 1\n",
    "        upper_word = word_list[upper]\n",
    "        #print \"new upper word\", upper_word\n",
    "        if len(upper_word) < min or upper_word[:min] != word[:min]:\n",
    "            return []\n",
    "    return word_list[lower:upper+1]"
   ]
  },
  {
   "cell_type": "code",
   "execution_count": 15,
   "metadata": {
    "collapsed": false
   },
   "outputs": [],
   "source": [
    "def avg_cp(min):\n",
    "    lengths = []\n",
    "    for blend in blends:\n",
    "        starters, enders = create_lists(blend, min=min)\n",
    "        lengths.append(len(starters)*len(enders))\n",
    "    \n",
    "    avg_length = sum(lengths)/float(len(lengths))\n",
    "    return avg_length"
   ]
  },
  {
   "cell_type": "code",
   "execution_count": 20,
   "metadata": {
    "collapsed": false
   },
   "outputs": [
    {
     "data": {
      "text/plain": [
       "[<matplotlib.lines.Line2D at 0x109afc890>]"
      ]
     },
     "execution_count": 20,
     "metadata": {},
     "output_type": "execute_result"
    },
    {
     "data": {
      "image/png": "[encoded data removed]",
      "text/plain": [
       "<matplotlib.figure.Figure at 0x1075a9ad0>"
      ]
     },
     "metadata": {},
     "output_type": "display_data"
    }
   ],
   "source": [
    "plt.plot([2,3,4,5,6],[avg_cp(x) for x in [2,3,4,5,6]])"
   ]
  },
  {
   "cell_type": "code",
   "execution_count": null,
   "metadata": {
    "collapsed": true
   },
   "outputs": [],
   "source": [
    "def dict_to_list(dict, min=2):\n",
    "    res = []\n",
    "    for key in dict.keys():\n",
    "        if key > min:\n",
    "            res.extend(dict[key])\n",
    "    return res\n",
    "\n",
    "def find_matches(word, word_list):\n",
    "    res = find_letter_recurse(word.lower(), 1, word_list)\n",
    "    #for idx in res:\n",
    "    #    print idx, word_list[idx]\n",
    "    matches = {}\n",
    "    i = 0\n",
    "    while len(res) > 0:\n",
    "        i += 1\n",
    "        matches[i] = word_list[res[0]:res[1]+1]\n",
    "        if len(res) > 2:\n",
    "            matches[i].extend(word_list[res[-2]:res[-1]+1])\n",
    "        res = res[1:-1]\n",
    "    return matches\n",
    "\n",
    "def find_letter_recurse(word, idx, word_list):\n",
    "    if idx > len(word):\n",
    "        return []\n",
    "    \n",
    "    substr = word[:idx]\n",
    "    lower = bisect_right(word_list, substr) - 1\n",
    "    \n",
    "    low_word = word_list[lower]\n",
    "    #print \"low_word\", low_word\n",
    "    \n",
    "    #couldn't find any exact matches\n",
    "    if len(low_word) < idx or low_word[:idx] != word[:idx]:\n",
    "        lower += 1\n",
    "        low_word = word_list[lower]\n",
    "        #print \"new low word\", low_word\n",
    "        if len(low_word) < idx or low_word[:idx] != word[:idx]:\n",
    "            return []\n",
    "\n",
    "    last_letter = substr[-1]\n",
    "    \n",
    "    if last_letter is 'z':\n",
    "        upper = len(word_list) - 1\n",
    "    else:\n",
    "        substr_end = substr[:-1] + chr(ord(last_letter) + 1)\n",
    "        upper = bisect_left(word_list, substr_end) - 1\n",
    "        upper_word = word_list[upper]\n",
    "        #print \"upper word\", upper_word\n",
    "        if len(upper_word) < idx or upper_word[:idx] != word[:idx]:\n",
    "            upper -= 1\n",
    "            upper_word = word_list[upper]\n",
    "            #print \"new upper word\", upper_word\n",
    "            if len(upper_word) < idx or upper_word[:idx] != word[:idx]:\n",
    "                return []\n",
    "         \n",
    "    \n",
    "    cut_list = word_list[lower:upper+1]\n",
    "    \n",
    "    res = find_letter_recurse(word, idx + 1, cut_list)\n",
    "    res = [idx + lower for idx in res]\n",
    "    res.insert(0, lower)\n",
    "    res.append(upper)\n",
    "    \n",
    "    return res\n"
   ]
  },
  {
   "cell_type": "code",
   "execution_count": 63,
   "metadata": {
    "collapsed": false
   },
   "outputs": [],
   "source": [
    "heyoo = create_lists(\"hello\")[1]"
   ]
  },
  {
   "cell_type": "code",
   "execution_count": 96,
   "metadata": {
    "collapsed": true
   },
   "outputs": [],
   "source": [
    "def get_length_match(blend, candidate):\n",
    "    for i in range(len(blend) + 1):\n",
    "        if blend[:i] != candidate[:i]:\n",
    "            return i\n",
    "    return len(blend)\n",
    "\n",
    "def get_length_matches(blend, candidates, front=True):\n",
    "    if not front:\n",
    "        blend = blend[::-1]\n",
    "        candidates = [candidate[::-1] for candidate in candidates]\n",
    "    \n",
    "    with_lengths = [(get_length_match(blend, candidate), candidate) for candidate in candidates]\n",
    "    if not front:\n",
    "        #fix wackiness\n",
    "        with_lenghts = [(length, candidate[::-1]) for length, candidate in with_lengths]\n",
    "    return with_lengths\n"
   ]
  },
  {
   "cell_type": "code",
   "execution_count": 108,
   "metadata": {
    "collapsed": false
   },
   "outputs": [],
   "source": [
    "from itertools import groupby\n",
    "\n",
    "def find_match_count(starters, enders, blend, exact=False):\n",
    "    start_lengths = [length for length, candidate in get_length_matches(blend, starters, front=True)]\n",
    "    end_lengths = [length for length, candidate in get_length_matches(blend, starters, front=False)]\n",
    "    \n",
    "    start_lengths.sort()\n",
    "    end_lengths.sort()\n",
    "    \n",
    "    l1 = [len(list(group)) for key, group in groupby(start_lengths)]\n",
    "    l2 = [len(list(group)) for key, group in groupby(end_lengths)]\n",
    "    \n",
    "    return match_amounts(l1, l2)"
   ]
  },
  {
   "cell_type": "code",
   "execution_count": 91,
   "metadata": {
    "collapsed": true
   },
   "outputs": [],
   "source": [
    "def match_amounts(l1, l2):\n",
    "    l2.reverse()\n",
    "    count = 0\n",
    "    for a1, a2 in zip(l1, l2):\n",
    "        count += a1 * a2\n",
    "    return count   "
   ]
  },
  {
   "cell_type": "code",
   "execution_count": 114,
   "metadata": {
    "collapsed": true
   },
   "outputs": [],
   "source": [
    "def total_count(blend, min=2):\n",
    "    lists = create_lists(blend,min=min)\n",
    "    return find_match_count(lists[0], lists[1], blend)"
   ]
  },
  {
   "cell_type": "code",
   "execution_count": 105,
   "metadata": {
    "collapsed": false
   },
   "outputs": [],
   "source": [
    "lengths = [total_count(blend) for blend in blends]"
   ]
  },
  {
   "cell_type": "code",
   "execution_count": 115,
   "metadata": {
    "collapsed": true
   },
   "outputs": [],
   "source": [
    "def avg_prods(min, blends=blends):\n",
    "    lengths = [total_count(blend, min=min) for blend in blends]\n",
    "    avg = sum(lengths) / len(lengths)\n",
    "    return avg"
   ]
  },
  {
   "cell_type": "code",
   "execution_count": 116,
   "metadata": {
    "collapsed": false
   },
   "outputs": [
    {
     "data": {
      "text/plain": [
       "[<matplotlib.lines.Line2D at 0x10ac156d0>]"
      ]
     },
     "execution_count": 116,
     "metadata": {},
     "output_type": "execute_result"
    },
    {
     "data": {
      "image/png": "[encoded data removed]",
      "text/plain": [
       "<matplotlib.figure.Figure at 0x10ad7b710>"
      ]
     },
     "metadata": {},
     "output_type": "display_data"
    }
   ],
   "source": [
    "plt.plot([2,3,4,5,6],[avg_prods(x) for x in [2,3,4,5,6]])"
   ]
  },
  {
   "cell_type": "code",
   "execution_count": 117,
   "metadata": {
    "collapsed": true
   },
   "outputs": [],
   "source": [
    "x_axis = [2,3,4,5,6]\n",
    "small_prods_line = [avg_prods(x) for x in x_axis]\n",
    "big_prods_line = [avg_cp(x) for x in x_axis]"
   ]
  },
  {
   "cell_type": "code",
   "execution_count": 120,
   "metadata": {
    "collapsed": false
   },
   "outputs": [
    {
     "data": {
      "text/plain": [
       "[<matplotlib.lines.Line2D at 0x108efd5d0>,\n",
       " <matplotlib.lines.Line2D at 0x109dc45d0>]"
      ]
     },
     "execution_count": 120,
     "metadata": {},
     "output_type": "execute_result"
    },
    {
     "data": {
      "image/png": "[encoded data removed]",
      "text/plain": [
       "<matplotlib.figure.Figure at 0x108efd1d0>"
      ]
     },
     "metadata": {},
     "output_type": "display_data"
    }
   ],
   "source": [
    "plt.yscale(\"log\")\n",
    "plt.plot(x_axis, big_prods_line, x_axis, small_prods_line)"
   ]
  },
  {
   "cell_type": "code",
   "execution_count": 125,
   "metadata": {
    "collapsed": false
   },
   "outputs": [
    {
     "data": {
      "text/plain": [
       "False"
      ]
     },
     "execution_count": 125,
     "metadata": {},
     "output_type": "execute_result"
    }
   ],
   "source": [
    "\"whacker\" in blends"
   ]
  },
  {
   "cell_type": "code",
   "execution_count": null,
   "metadata": {
    "collapsed": true
   },
   "outputs": [],
   "source": []
  }
 ],
 "metadata": {
  "kernelspec": {
   "display_name": "Python 2",
   "language": "python",
   "name": "python2"
  },
  "language_info": {
   "codemirror_mode": {
    "name": "ipython",
    "version": 2
   },
   "file_extension": ".py",
   "mimetype": "text/x-python",
   "name": "python",
   "nbconvert_exporter": "python",
   "pygments_lexer": "ipython2",
   "version": "2.7.10"
  }
 },
 "nbformat": 4,
 "nbformat_minor": 0
}
